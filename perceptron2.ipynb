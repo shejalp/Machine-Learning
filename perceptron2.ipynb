{
  "nbformat": 4,
  "nbformat_minor": 0,
  "metadata": {
    "colab": {
      "name": "perceptron2.ipynb",
      "provenance": [],
      "authorship_tag": "ABX9TyPU4QQXAuP19ar5fh4HgpWK",
      "include_colab_link": true
    },
    "kernelspec": {
      "name": "python3",
      "display_name": "Python 3"
    },
    "language_info": {
      "name": "python"
    }
  },
  "cells": [
    {
      "cell_type": "markdown",
      "metadata": {
        "id": "view-in-github",
        "colab_type": "text"
      },
      "source": [
        "<a href=\"https://colab.research.google.com/github/shejalp/Machine-Learning/blob/main/perceptron2.ipynb\" target=\"_parent\"><img src=\"https://colab.research.google.com/assets/colab-badge.svg\" alt=\"Open In Colab\"/></a>"
      ]
    },
    {
      "cell_type": "code",
      "execution_count": 1,
      "metadata": {
        "id": "mK5iimLU8ERF"
      },
      "outputs": [],
      "source": [
        "import pandas as pd\n",
        "import numpy as np"
      ]
    },
    {
      "cell_type": "code",
      "source": [
        "eye = dict({'Television Exposure' :[6,6,4,4.5,3,2,5],'Reading':[4,2,3,4,8,2,1],'Spectacles required' : [1,0,0,1,1,0,0]})\n",
        "df = pd.DataFrame(eye)"
      ],
      "metadata": {
        "id": "JbEI6sNL9h-v"
      },
      "execution_count": 11,
      "outputs": []
    },
    {
      "cell_type": "code",
      "source": [
        "def unitstep(v):\n",
        "  if v>=0:\n",
        "    return 1\n",
        "  else:\n",
        "    return 0\n",
        "#design perceptron model\n",
        "def perceptron(x,w,b):\n",
        "  v = np.dot(w,x)+b\n",
        "  y = unitstep(v)\n",
        "  return y\n",
        "\n",
        "def spec(x):\n",
        "  w=[2,5.5]\n",
        "  b = -30\n",
        "  return perceptron(x,w,b)"
      ],
      "metadata": {
        "id": "FDSDLSjZ94TL"
      },
      "execution_count": 12,
      "outputs": []
    },
    {
      "cell_type": "code",
      "source": [
        "X = df.iloc[:,:2].values\n",
        "y = df.iloc[:,2:].values"
      ],
      "metadata": {
        "id": "mw08JUu1-bUE"
      },
      "execution_count": 13,
      "outputs": []
    },
    {
      "cell_type": "code",
      "source": [
        "X= np.array(X)\n",
        "y= np.array(y)"
      ],
      "metadata": {
        "id": "jBF1HYrx-zoZ"
      },
      "execution_count": 14,
      "outputs": []
    },
    {
      "cell_type": "code",
      "source": [
        "size = y.size\n",
        "y_pred = np.zeros(y.size)\n",
        "w=[1,4]\n",
        "b=-25\n",
        "for i in range(size):\n",
        "  y[i]= perceptron(X[i],w,b)"
      ],
      "metadata": {
        "id": "VJK-4aPM-808"
      },
      "execution_count": 15,
      "outputs": []
    },
    {
      "cell_type": "code",
      "source": [
        "from sklearn.metrics import accuracy_score\n",
        "score = accuracy_score(y, y_pred)\n",
        "score"
      ],
      "metadata": {
        "colab": {
          "base_uri": "https://localhost:8080/"
        },
        "id": "foxsnZkAAjT8",
        "outputId": "66946871-c006-4e62-e8af-eef797949269"
      },
      "execution_count": 16,
      "outputs": [
        {
          "output_type": "execute_result",
          "data": {
            "text/plain": [
              "0.8571428571428571"
            ]
          },
          "metadata": {},
          "execution_count": 16
        }
      ]
    }
  ]
}