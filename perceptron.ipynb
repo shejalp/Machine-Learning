{
  "nbformat": 4,
  "nbformat_minor": 0,
  "metadata": {
    "colab": {
      "name": "perceptron.ipynb",
      "provenance": [],
      "authorship_tag": "ABX9TyPzWnbXr559WSMK2gFqDAgU",
      "include_colab_link": true
    },
    "kernelspec": {
      "name": "python3",
      "display_name": "Python 3"
    },
    "language_info": {
      "name": "python"
    }
  },
  "cells": [
    {
      "cell_type": "markdown",
      "metadata": {
        "id": "view-in-github",
        "colab_type": "text"
      },
      "source": [
        "<a href=\"https://colab.research.google.com/github/shejalp/Machine-Learning/blob/main/perceptron.ipynb\" target=\"_parent\"><img src=\"https://colab.research.google.com/assets/colab-badge.svg\" alt=\"Open In Colab\"/></a>"
      ]
    },
    {
      "cell_type": "markdown",
      "source": [
        "Implementation Of Perceptron Using AND Gate"
      ],
      "metadata": {
        "id": "ibqkywMk5zVh"
      }
    },
    {
      "cell_type": "code",
      "execution_count": 1,
      "metadata": {
        "colab": {
          "base_uri": "https://localhost:8080/"
        },
        "id": "0o07RTBZ5vky",
        "outputId": "9e31786f-4c23-406f-e37d-3e6d37f5c4b7"
      },
      "outputs": [
        {
          "output_type": "stream",
          "name": "stdout",
          "text": [
            "AND(0,1)=0\n",
            "AND(1,1)=1\n",
            "AND(0,0)=0\n",
            "AND(1,0)=0\n"
          ]
        }
      ],
      "source": [
        "#importing numpy library\n",
        "import numpy as np\n",
        "#define unit step function\n",
        "def unitstep(v):\n",
        "  if v>=0:\n",
        "    return 1\n",
        "  else:\n",
        "    return 0\n",
        "#design perceptron model\n",
        "def perceptron(x,w,b):\n",
        "  v = np.dot(w,x)+b\n",
        "  y = unitstep(v)\n",
        "  return y\n",
        "#AND Logic Function\n",
        "#w1 = 1,w2=1,b = -1.5\n",
        "def AND_logicfunction(x):\n",
        "  w = np.array([1,1])\n",
        "  b = -1.5\n",
        "  return perceptron(x,w,b)\n",
        "#testing the perceptron model\n",
        "test1 = np.array([0,1])\n",
        "test2 = np.array([1,1])\n",
        "test3 = np.array([0,0])\n",
        "test4 = np.array([1,0])\n",
        "print(\"AND({},{})={}\".format(0,1,AND_logicfunction(test1)))\n",
        "print(\"AND({},{})={}\".format(1,1,AND_logicfunction(test2)))\n",
        "print(\"AND({},{})={}\".format(0,0,AND_logicfunction(test3)))\n",
        "print(\"AND({},{})={}\".format(1,0,AND_logicfunction(test4)))\n"
      ]
    },
    {
      "cell_type": "markdown",
      "source": [
        "Using OR gate"
      ],
      "metadata": {
        "id": "UgM13trc6S0K"
      }
    },
    {
      "cell_type": "code",
      "source": [
        "#importing numpy library\n",
        "import numpy as np\n",
        "#define unit step function\n",
        "def unitstep(v):\n",
        "  if v>=0:\n",
        "    return 1\n",
        "  else:\n",
        "    return 0\n",
        "#design perceptron model\n",
        "def perceptron(x,w,b):\n",
        "  v = np.dot(w,x)+b\n",
        "  y = unitstep(v)\n",
        "  return y\n",
        "#or Logic Function\n",
        "#w1 = 1,w2=1,b = -0.5\n",
        "def or_logicfunction(x):\n",
        "  w = np.array([1,1])\n",
        "  b = -0.5\n",
        "  return perceptron(x,w,b)\n",
        "#testing the perceptron model\n",
        "test1 = np.array([0,1])\n",
        "test2 = np.array([1,1])\n",
        "test3 = np.array([0,0])\n",
        "test4 = np.array([1,0])\n",
        "print(\"OR({},{})={}\".format(0,1,or_logicfunction(test1)))\n",
        "print(\"OR({},{})={}\".format(1,1,or_logicfunction(test2)))\n",
        "print(\"OR({},{})={}\".format(0,0,or_logicfunction(test3)))\n",
        "print(\"OR({},{})={}\".format(1,0,or_logicfunction(test4)))\n"
      ],
      "metadata": {
        "colab": {
          "base_uri": "https://localhost:8080/"
        },
        "id": "CpYBWonf6LSK",
        "outputId": "aa7cd766-9767-4b68-e516-2e1ad0fcb53f"
      },
      "execution_count": 2,
      "outputs": [
        {
          "output_type": "stream",
          "name": "stdout",
          "text": [
            "OR(0,1)=1\n",
            "OR(1,1)=1\n",
            "OR(0,0)=0\n",
            "OR(1,0)=1\n"
          ]
        }
      ]
    },
    {
      "cell_type": "markdown",
      "source": [
        "Using Xor gate"
      ],
      "metadata": {
        "id": "kj29EJYw7Ux0"
      }
    },
    {
      "cell_type": "code",
      "source": [
        "# importing Python library\n",
        "import numpy as np\n",
        "  \n",
        "# define Unit Step Function\n",
        "def unitStep(v):\n",
        "    if v >= 0:\n",
        "        return 1\n",
        "    else:\n",
        "        return 0\n",
        "  \n",
        "# design Perceptron Model\n",
        "def perceptronModel(x, w, b):\n",
        "    v = np.dot(w, x) + b\n",
        "    y = unitStep(v)\n",
        "    return y\n",
        "  \n",
        "# NOT Logic Function\n",
        "# wNOT = -1, bNOT = 0.5\n",
        "def NOT_logicFunction(x):\n",
        "    wNOT = -1\n",
        "    bNOT = 0.5\n",
        "    return perceptronModel(x, wNOT, bNOT)\n",
        "  \n",
        "# AND Logic Function\n",
        "# here w1 = w AND 1 = 1, \n",
        "# w2 = w AND2 = 1, bAND = -1.5\n",
        "def AND_logicFunction(x):\n",
        "    w = np.array([1, 1])\n",
        "    bAND = -1.5\n",
        "    return perceptronModel(x, w, bAND)\n",
        "  \n",
        "# OR Logic Function\n",
        "# w1 = 1, w2 = 1, bOR = -0.5\n",
        "def OR_logicFunction(x):\n",
        "    w = np.array([1, 1])\n",
        "    bOR = -0.5\n",
        "    return perceptronModel(x, w, bOR)\n",
        "  \n",
        "# XOR Logic Function\n",
        "# with AND, OR and NOT  \n",
        "# function calls in sequence\n",
        "def XOR_logicFunction(x):\n",
        "    y1 = AND_logicFunction(x)\n",
        "    y2 = OR_logicFunction(x)\n",
        "    y3 = NOT_logicFunction(y1)\n",
        "    final_x = np.array([y2, y3])\n",
        "    finalOutput = AND_logicFunction(final_x)\n",
        "    return finalOutput\n",
        "  \n",
        "# testing the Perceptron Model\n",
        "test1 = np.array([0, 1])\n",
        "test2 = np.array([1, 1])\n",
        "test3 = np.array([0, 0])\n",
        "test4 = np.array([1, 0])\n",
        "  \n",
        "print(\"XOR({}, {}) = {}\".format(0, 1, XOR_logicFunction(test1)))\n",
        "print(\"XOR({}, {}) = {}\".format(1, 1, XOR_logicFunction(test2)))\n",
        "print(\"XOR({}, {}) = {}\".format(0, 0, XOR_logicFunction(test3)))\n",
        "print(\"XOR({}, {}) = {}\".format(1, 0, XOR_logicFunction(test4)))"
      ],
      "metadata": {
        "colab": {
          "base_uri": "https://localhost:8080/"
        },
        "id": "ohq35sV36ggZ",
        "outputId": "0037d32d-eba5-40af-ef08-8c285c662e5b"
      },
      "execution_count": 3,
      "outputs": [
        {
          "output_type": "stream",
          "name": "stdout",
          "text": [
            "XOR(0, 1) = 1\n",
            "XOR(1, 1) = 0\n",
            "XOR(0, 0) = 0\n",
            "XOR(1, 0) = 1\n"
          ]
        }
      ]
    },
    {
      "cell_type": "markdown",
      "source": [
        "Using Nand Gate"
      ],
      "metadata": {
        "id": "Pu1N91zt7EZU"
      }
    },
    {
      "cell_type": "code",
      "source": [
        "\n",
        "import numpy as np\n",
        "  \n",
        "# define Unit Step Function\n",
        "def unitStep(v):\n",
        "    if v >= 0:\n",
        "        return 1\n",
        "    else:\n",
        "        return 0\n",
        "  \n",
        "# design Perceptron Model\n",
        "def perceptronModel(x, w, b):\n",
        "    v = np.dot(w, x) + b\n",
        "    y = unitStep(v)\n",
        "    return y\n",
        "  \n",
        "# NOT Logic Function\n",
        "# wNOT = -1, bNOT = 0.5\n",
        "def NOT_logicFunction(x):\n",
        "    wNOT = -1\n",
        "    bNOT = 0.5\n",
        "    return perceptronModel(x, wNOT, bNOT)\n",
        "  \n",
        "# AND Logic Function\n",
        "# w1 = 1, w2 = 1, bAND = -1.5\n",
        "def AND_logicFunction(x):\n",
        "    w = np.array([1, 1])\n",
        "    bAND = -1.5\n",
        "    return perceptronModel(x, w, bAND)\n",
        "  \n",
        "# NAND Logic Function\n",
        "# with AND and NOT  \n",
        "# function calls in sequence\n",
        "def NAND_logicFunction(x):\n",
        "    output_AND = AND_logicFunction(x)\n",
        "    output_NOT = NOT_logicFunction(output_AND)\n",
        "    return output_NOT\n",
        "  \n",
        "# testing the Perceptron Model\n",
        "test1 = np.array([0, 1])\n",
        "test2 = np.array([1, 1])\n",
        "test3 = np.array([0, 0])\n",
        "test4 = np.array([1, 0])\n",
        "  \n",
        "print(\"NAND({}, {}) = {}\".format(0, 1, NAND_logicFunction(test1)))\n",
        "print(\"NAND({}, {}) = {}\".format(1, 1, NAND_logicFunction(test2)))\n",
        "print(\"NAND({}, {}) = {}\".format(0, 0, NAND_logicFunction(test3)))\n",
        "print(\"NAND({}, {}) = {}\".format(1, 0, NAND_logicFunction(test4)))"
      ],
      "metadata": {
        "colab": {
          "base_uri": "https://localhost:8080/"
        },
        "id": "KhUA-Ll16-H3",
        "outputId": "c8fc5332-d1ad-4c62-e838-1b6394b7ffe3"
      },
      "execution_count": 4,
      "outputs": [
        {
          "output_type": "stream",
          "name": "stdout",
          "text": [
            "NAND(0, 1) = 1\n",
            "NAND(1, 1) = 0\n",
            "NAND(0, 0) = 1\n",
            "NAND(1, 0) = 1\n"
          ]
        }
      ]
    },
    {
      "cell_type": "code",
      "source": [
        ""
      ],
      "metadata": {
        "id": "g1MV57DP7EEQ"
      },
      "execution_count": null,
      "outputs": []
    }
  ]
}